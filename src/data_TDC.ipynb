{
 "cells": [
  {
   "cell_type": "markdown",
   "id": "9a943b13-f6e0-4fdd-a88a-1c3322b541e1",
   "metadata": {},
   "source": [
    "# TDC"
   ]
  },
  {
   "cell_type": "code",
   "execution_count": 15,
   "id": "8f053153-0a84-4ede-a569-c00077d73a4b",
   "metadata": {},
   "outputs": [],
   "source": [
    "import pandas as pd \n",
    "import numpy as np\n",
    "import itertools\n",
    "\n",
    "from tdc.multi_pred import DDI\n",
    "from tdc.chem_utils import MolConvert\n",
    "import sklearn.metrics.pairwise\n",
    "from sklearn.metrics import pairwise_distances\n",
    "\n",
    "import nbimporter\n",
    "from assistant import distinct, drug_index, labels_to_tensor, merge_smile, vectorize_smile, save, drug_combi_index, data_indexed_combi, vectorize_drugcombi, tanimoto_similarity_matrix"
   ]
  },
  {
   "cell_type": "markdown",
   "id": "019f7c82-7404-4844-8497-8d7b1b1d2176",
   "metadata": {
    "tags": []
   },
   "source": [
    "## TDC Twosides Dataset"
   ]
  },
  {
   "cell_type": "code",
   "execution_count": 7,
   "id": "77dac8e7-64a2-4c6c-894a-b510a1e2ad5a",
   "metadata": {},
   "outputs": [],
   "source": [
    "# data = DDI(name = 'TWOSIDES').get_data() "
   ]
  },
  {
   "cell_type": "markdown",
   "id": "ef989dc9-7335-48e8-8fa7-e74323047b70",
   "metadata": {
    "tags": []
   },
   "source": [
    "Data downloaded as ./data/twosides.csv automatically"
   ]
  },
  {
   "cell_type": "code",
   "execution_count": 2,
   "id": "60b06cbf-c454-4d4c-87bc-81516df41c02",
   "metadata": {},
   "outputs": [],
   "source": [
    "# full data\n",
    "data = pd.read_csv(\"./data/twosides.csv\")\n",
    "data.columns = [\"Drug1\", \"Drug2\", \"SE_Index\" ,\"SE\", \"Drug1_smile\", \"Drug2_smile\"]  # to unify with other datasets"
   ]
  },
  {
   "cell_type": "code",
   "execution_count": 3,
   "id": "fa1f2eeb-ddf9-4fdf-b8c3-908c13908167",
   "metadata": {},
   "outputs": [
    {
     "data": {
      "text/html": [
       "<div>\n",
       "<style scoped>\n",
       "    .dataframe tbody tr th:only-of-type {\n",
       "        vertical-align: middle;\n",
       "    }\n",
       "\n",
       "    .dataframe tbody tr th {\n",
       "        vertical-align: top;\n",
       "    }\n",
       "\n",
       "    .dataframe thead th {\n",
       "        text-align: right;\n",
       "    }\n",
       "</style>\n",
       "<table border=\"1\" class=\"dataframe\">\n",
       "  <thead>\n",
       "    <tr style=\"text-align: right;\">\n",
       "      <th></th>\n",
       "      <th>Drug1</th>\n",
       "      <th>Drug2</th>\n",
       "      <th>SE_Index</th>\n",
       "      <th>SE</th>\n",
       "      <th>Drug1_smile</th>\n",
       "      <th>Drug2_smile</th>\n",
       "    </tr>\n",
       "  </thead>\n",
       "  <tbody>\n",
       "    <tr>\n",
       "      <th>0</th>\n",
       "      <td>CID000002173</td>\n",
       "      <td>CID000003345</td>\n",
       "      <td>1024</td>\n",
       "      <td>hypermagnesemia</td>\n",
       "      <td>CC1(C(N2C(S1)C(C2=O)NC(=O)C(C3=CC=CC=C3)N)C(=O...</td>\n",
       "      <td>CCC(=O)N(C1CCN(CC1)CCC2=CC=CC=C2)C3=CC=CC=C3</td>\n",
       "    </tr>\n",
       "    <tr>\n",
       "      <th>1</th>\n",
       "      <td>CID000002173</td>\n",
       "      <td>CID000003345</td>\n",
       "      <td>767</td>\n",
       "      <td>retinopathy of prematurity</td>\n",
       "      <td>CC1(C(N2C(S1)C(C2=O)NC(=O)C(C3=CC=CC=C3)N)C(=O...</td>\n",
       "      <td>CCC(=O)N(C1CCN(CC1)CCC2=CC=CC=C2)C3=CC=CC=C3</td>\n",
       "    </tr>\n",
       "    <tr>\n",
       "      <th>2</th>\n",
       "      <td>CID000002173</td>\n",
       "      <td>CID000003345</td>\n",
       "      <td>79</td>\n",
       "      <td>atelectasis</td>\n",
       "      <td>CC1(C(N2C(S1)C(C2=O)NC(=O)C(C3=CC=CC=C3)N)C(=O...</td>\n",
       "      <td>CCC(=O)N(C1CCN(CC1)CCC2=CC=CC=C2)C3=CC=CC=C3</td>\n",
       "    </tr>\n",
       "    <tr>\n",
       "      <th>3</th>\n",
       "      <td>CID000002173</td>\n",
       "      <td>CID000003345</td>\n",
       "      <td>25</td>\n",
       "      <td>alkalosis</td>\n",
       "      <td>CC1(C(N2C(S1)C(C2=O)NC(=O)C(C3=CC=CC=C3)N)C(=O...</td>\n",
       "      <td>CCC(=O)N(C1CCN(CC1)CCC2=CC=CC=C2)C3=CC=CC=C3</td>\n",
       "    </tr>\n",
       "    <tr>\n",
       "      <th>4</th>\n",
       "      <td>CID000002173</td>\n",
       "      <td>CID000003345</td>\n",
       "      <td>85</td>\n",
       "      <td>Back Ache</td>\n",
       "      <td>CC1(C(N2C(S1)C(C2=O)NC(=O)C(C3=CC=CC=C3)N)C(=O...</td>\n",
       "      <td>CCC(=O)N(C1CCN(CC1)CCC2=CC=CC=C2)C3=CC=CC=C3</td>\n",
       "    </tr>\n",
       "    <tr>\n",
       "      <th>...</th>\n",
       "      <td>...</td>\n",
       "      <td>...</td>\n",
       "      <td>...</td>\n",
       "      <td>...</td>\n",
       "      <td>...</td>\n",
       "      <td>...</td>\n",
       "    </tr>\n",
       "    <tr>\n",
       "      <th>4649436</th>\n",
       "      <td>CID000003461</td>\n",
       "      <td>CID000003954</td>\n",
       "      <td>1008</td>\n",
       "      <td>deep vein thromboses</td>\n",
       "      <td>C1=CN(C(=O)N=C1N)C2C(C(C(O2)CO)O)(F)F</td>\n",
       "      <td>CN(C)C(=O)C(CC[NH+]1CCC(CC1)(C2=CC=C(C=C2)Cl)O...</td>\n",
       "    </tr>\n",
       "    <tr>\n",
       "      <th>4649437</th>\n",
       "      <td>CID000003461</td>\n",
       "      <td>CID000003954</td>\n",
       "      <td>769</td>\n",
       "      <td>rhabdomyolysis</td>\n",
       "      <td>C1=CN(C(=O)N=C1N)C2C(C(C(O2)CO)O)(F)F</td>\n",
       "      <td>CN(C)C(=O)C(CC[NH+]1CCC(CC1)(C2=CC=C(C=C2)Cl)O...</td>\n",
       "    </tr>\n",
       "    <tr>\n",
       "      <th>4649438</th>\n",
       "      <td>CID000003461</td>\n",
       "      <td>CID000003954</td>\n",
       "      <td>930</td>\n",
       "      <td>loss of weight</td>\n",
       "      <td>C1=CN(C(=O)N=C1N)C2C(C(C(O2)CO)O)(F)F</td>\n",
       "      <td>CN(C)C(=O)C(CC[NH+]1CCC(CC1)(C2=CC=C(C=C2)Cl)O...</td>\n",
       "    </tr>\n",
       "    <tr>\n",
       "      <th>4649439</th>\n",
       "      <td>CID000003461</td>\n",
       "      <td>CID000003954</td>\n",
       "      <td>72</td>\n",
       "      <td>ascites</td>\n",
       "      <td>C1=CN(C(=O)N=C1N)C2C(C(C(O2)CO)O)(F)F</td>\n",
       "      <td>CN(C)C(=O)C(CC[NH+]1CCC(CC1)(C2=CC=C(C=C2)Cl)O...</td>\n",
       "    </tr>\n",
       "    <tr>\n",
       "      <th>4649440</th>\n",
       "      <td>CID000003461</td>\n",
       "      <td>CID000003954</td>\n",
       "      <td>836</td>\n",
       "      <td>bulging</td>\n",
       "      <td>C1=CN(C(=O)N=C1N)C2C(C(C(O2)CO)O)(F)F</td>\n",
       "      <td>CN(C)C(=O)C(CC[NH+]1CCC(CC1)(C2=CC=C(C=C2)Cl)O...</td>\n",
       "    </tr>\n",
       "  </tbody>\n",
       "</table>\n",
       "<p>4649441 rows × 6 columns</p>\n",
       "</div>"
      ],
      "text/plain": [
       "                Drug1         Drug2  SE_Index                          SE  \\\n",
       "0        CID000002173  CID000003345      1024             hypermagnesemia   \n",
       "1        CID000002173  CID000003345       767  retinopathy of prematurity   \n",
       "2        CID000002173  CID000003345        79                 atelectasis   \n",
       "3        CID000002173  CID000003345        25                   alkalosis   \n",
       "4        CID000002173  CID000003345        85                   Back Ache   \n",
       "...               ...           ...       ...                         ...   \n",
       "4649436  CID000003461  CID000003954      1008        deep vein thromboses   \n",
       "4649437  CID000003461  CID000003954       769              rhabdomyolysis   \n",
       "4649438  CID000003461  CID000003954       930              loss of weight   \n",
       "4649439  CID000003461  CID000003954        72                     ascites   \n",
       "4649440  CID000003461  CID000003954       836                     bulging   \n",
       "\n",
       "                                               Drug1_smile  \\\n",
       "0        CC1(C(N2C(S1)C(C2=O)NC(=O)C(C3=CC=CC=C3)N)C(=O...   \n",
       "1        CC1(C(N2C(S1)C(C2=O)NC(=O)C(C3=CC=CC=C3)N)C(=O...   \n",
       "2        CC1(C(N2C(S1)C(C2=O)NC(=O)C(C3=CC=CC=C3)N)C(=O...   \n",
       "3        CC1(C(N2C(S1)C(C2=O)NC(=O)C(C3=CC=CC=C3)N)C(=O...   \n",
       "4        CC1(C(N2C(S1)C(C2=O)NC(=O)C(C3=CC=CC=C3)N)C(=O...   \n",
       "...                                                    ...   \n",
       "4649436              C1=CN(C(=O)N=C1N)C2C(C(C(O2)CO)O)(F)F   \n",
       "4649437              C1=CN(C(=O)N=C1N)C2C(C(C(O2)CO)O)(F)F   \n",
       "4649438              C1=CN(C(=O)N=C1N)C2C(C(C(O2)CO)O)(F)F   \n",
       "4649439              C1=CN(C(=O)N=C1N)C2C(C(C(O2)CO)O)(F)F   \n",
       "4649440              C1=CN(C(=O)N=C1N)C2C(C(C(O2)CO)O)(F)F   \n",
       "\n",
       "                                               Drug2_smile  \n",
       "0             CCC(=O)N(C1CCN(CC1)CCC2=CC=CC=C2)C3=CC=CC=C3  \n",
       "1             CCC(=O)N(C1CCN(CC1)CCC2=CC=CC=C2)C3=CC=CC=C3  \n",
       "2             CCC(=O)N(C1CCN(CC1)CCC2=CC=CC=C2)C3=CC=CC=C3  \n",
       "3             CCC(=O)N(C1CCN(CC1)CCC2=CC=CC=C2)C3=CC=CC=C3  \n",
       "4             CCC(=O)N(C1CCN(CC1)CCC2=CC=CC=C2)C3=CC=CC=C3  \n",
       "...                                                    ...  \n",
       "4649436  CN(C)C(=O)C(CC[NH+]1CCC(CC1)(C2=CC=C(C=C2)Cl)O...  \n",
       "4649437  CN(C)C(=O)C(CC[NH+]1CCC(CC1)(C2=CC=C(C=C2)Cl)O...  \n",
       "4649438  CN(C)C(=O)C(CC[NH+]1CCC(CC1)(C2=CC=C(C=C2)Cl)O...  \n",
       "4649439  CN(C)C(=O)C(CC[NH+]1CCC(CC1)(C2=CC=C(C=C2)Cl)O...  \n",
       "4649440  CN(C)C(=O)C(CC[NH+]1CCC(CC1)(C2=CC=C(C=C2)Cl)O...  \n",
       "\n",
       "[4649441 rows x 6 columns]"
      ]
     },
     "execution_count": 3,
     "metadata": {},
     "output_type": "execute_result"
    }
   ],
   "source": [
    "data"
   ]
  },
  {
   "cell_type": "markdown",
   "id": "d9687e20-5c72-4c61-89df-49c186a1e9fc",
   "metadata": {},
   "source": [
    "### Indexing Dataset|"
   ]
  },
  {
   "cell_type": "code",
   "execution_count": 4,
   "id": "84019a10-c52e-49d5-baf5-9c0705ed30e6",
   "metadata": {},
   "outputs": [],
   "source": [
    "# extract distinct Drug and Y (Side Effect)\n",
    "distinct_drug, distinct_SE = distinct(data, \"Drug1\", \"Drug2\", \"SE\")\n",
    "\n",
    "# index distinct Drug and Y (Side Effect)\n",
    "drug_idx = drug_index(distinct_drug) \n",
    "SE_idx = data[[\"SE\", \"SE_Index\"]].drop_duplicates().sort_values(\"SE_Index\").reset_index(drop=True)  # for SE, the given index is used."
   ]
  },
  {
   "cell_type": "code",
   "execution_count": 5,
   "id": "9f6fb768-7f53-4333-9f18-c21e2a784e70",
   "metadata": {},
   "outputs": [
    {
     "data": {
      "text/html": [
       "<div>\n",
       "<style scoped>\n",
       "    .dataframe tbody tr th:only-of-type {\n",
       "        vertical-align: middle;\n",
       "    }\n",
       "\n",
       "    .dataframe tbody tr th {\n",
       "        vertical-align: top;\n",
       "    }\n",
       "\n",
       "    .dataframe thead th {\n",
       "        text-align: right;\n",
       "    }\n",
       "</style>\n",
       "<table border=\"1\" class=\"dataframe\">\n",
       "  <thead>\n",
       "    <tr style=\"text-align: right;\">\n",
       "      <th></th>\n",
       "      <th>Drug1</th>\n",
       "      <th>Drug2</th>\n",
       "      <th>SE</th>\n",
       "      <th>Drug1_smile</th>\n",
       "      <th>Drug2_smile</th>\n",
       "      <th>Drug1_Index</th>\n",
       "      <th>Drug2_Index</th>\n",
       "      <th>SE_Index</th>\n",
       "    </tr>\n",
       "  </thead>\n",
       "  <tbody>\n",
       "    <tr>\n",
       "      <th>0</th>\n",
       "      <td>CID000002173</td>\n",
       "      <td>CID000003345</td>\n",
       "      <td>hypermagnesemia</td>\n",
       "      <td>CC1(C(N2C(S1)C(C2=O)NC(=O)C(C3=CC=CC=C3)N)C(=O...</td>\n",
       "      <td>CCC(=O)N(C1CCN(CC1)CCC2=CC=CC=C2)C3=CC=CC=C3</td>\n",
       "      <td>606</td>\n",
       "      <td>345</td>\n",
       "      <td>1024</td>\n",
       "    </tr>\n",
       "    <tr>\n",
       "      <th>1</th>\n",
       "      <td>CID000000853</td>\n",
       "      <td>CID000003345</td>\n",
       "      <td>hypermagnesemia</td>\n",
       "      <td>C1=C(C=C(C(=C1I)OC2=CC(=C(C(=C2)I)O)I)I)CC(C(=...</td>\n",
       "      <td>CCC(=O)N(C1CCN(CC1)CCC2=CC=CC=C2)C3=CC=CC=C3</td>\n",
       "      <td>397</td>\n",
       "      <td>345</td>\n",
       "      <td>1024</td>\n",
       "    </tr>\n",
       "    <tr>\n",
       "      <th>2</th>\n",
       "      <td>CID000003143</td>\n",
       "      <td>CID000003345</td>\n",
       "      <td>hypermagnesemia</td>\n",
       "      <td>CC1=C2C(C(=O)C3(C(CC4C(C3C(C(C2(C)C)(CC1OC(=O)...</td>\n",
       "      <td>CCC(=O)N(C1CCN(CC1)CCC2=CC=CC=C2)C3=CC=CC=C3</td>\n",
       "      <td>356</td>\n",
       "      <td>345</td>\n",
       "      <td>1024</td>\n",
       "    </tr>\n",
       "    <tr>\n",
       "      <th>3</th>\n",
       "      <td>CID000003168</td>\n",
       "      <td>CID000003345</td>\n",
       "      <td>hypermagnesemia</td>\n",
       "      <td>C1CN(CC=C1N2C3=CC=CC=C3NC2=O)CCCC(=O)C4=CC=C(C...</td>\n",
       "      <td>CCC(=O)N(C1CCN(CC1)CCC2=CC=CC=C2)C3=CC=CC=C3</td>\n",
       "      <td>616</td>\n",
       "      <td>345</td>\n",
       "      <td>1024</td>\n",
       "    </tr>\n",
       "    <tr>\n",
       "      <th>4</th>\n",
       "      <td>CID000000853</td>\n",
       "      <td>CID000004873</td>\n",
       "      <td>hypermagnesemia</td>\n",
       "      <td>C1=C(C=C(C(=C1I)OC2=CC(=C(C(=C2)I)O)I)I)CC(C(=...</td>\n",
       "      <td>[Cl-].[K+]</td>\n",
       "      <td>397</td>\n",
       "      <td>271</td>\n",
       "      <td>1024</td>\n",
       "    </tr>\n",
       "    <tr>\n",
       "      <th>...</th>\n",
       "      <td>...</td>\n",
       "      <td>...</td>\n",
       "      <td>...</td>\n",
       "      <td>...</td>\n",
       "      <td>...</td>\n",
       "      <td>...</td>\n",
       "      <td>...</td>\n",
       "      <td>...</td>\n",
       "    </tr>\n",
       "    <tr>\n",
       "      <th>4649436</th>\n",
       "      <td>CID000002308</td>\n",
       "      <td>CID000002541</td>\n",
       "      <td>renal agenesis</td>\n",
       "      <td>CC1CC2C3CCC4=CC(=O)C=CC4(C3(C(CC2(C1(C(=O)CO)O...</td>\n",
       "      <td>CCOC1=NC2=CC=CC(=C2N1CC3=CC=C(C=C3)C4=CC=CC=C4...</td>\n",
       "      <td>337</td>\n",
       "      <td>403</td>\n",
       "      <td>1246</td>\n",
       "    </tr>\n",
       "    <tr>\n",
       "      <th>4649437</th>\n",
       "      <td>CID000000450</td>\n",
       "      <td>CID000060852</td>\n",
       "      <td>estrogen replacement</td>\n",
       "      <td>CC12CCC3C(C1CCC2O)CCC4=C3C=CC(=C4)O</td>\n",
       "      <td>CCCCCN(C)CCC(O)(P(=O)(O)O)P(=O)(O)O</td>\n",
       "      <td>447</td>\n",
       "      <td>486</td>\n",
       "      <td>303</td>\n",
       "    </tr>\n",
       "    <tr>\n",
       "      <th>4649438</th>\n",
       "      <td>CID000010631</td>\n",
       "      <td>CID000060852</td>\n",
       "      <td>estrogen replacement</td>\n",
       "      <td>CC1CC2C(CCC3(C2CCC3(C(=O)C)O)C)C4(C1=CC(=O)CC4)C</td>\n",
       "      <td>CCCCCN(C)CCC(O)(P(=O)(O)O)P(=O)(O)O</td>\n",
       "      <td>226</td>\n",
       "      <td>486</td>\n",
       "      <td>303</td>\n",
       "    </tr>\n",
       "    <tr>\n",
       "      <th>4649439</th>\n",
       "      <td>CID000004585</td>\n",
       "      <td>CID000005076</td>\n",
       "      <td>hypogonadotropic hypogonadism</td>\n",
       "      <td>CC1=CC2=C(NC3=CC=CC=C3N=C2S1)N4CCN(CC4)C</td>\n",
       "      <td>CC(C)C1=NC(=CS1)CN(C)C(=O)NC(C(C)C)C(=O)NC(CC2...</td>\n",
       "      <td>260</td>\n",
       "      <td>338</td>\n",
       "      <td>501</td>\n",
       "    </tr>\n",
       "    <tr>\n",
       "      <th>4649440</th>\n",
       "      <td>CID000004585</td>\n",
       "      <td>CID000060787</td>\n",
       "      <td>hypogonadotropic hypogonadism</td>\n",
       "      <td>CC1=CC2=C(NC3=CC=CC=C3N=C2S1)N4CCN(CC4)C</td>\n",
       "      <td>CC(C)(C)NC(=O)C1CC2CCCCC2CN1CC(C(CC3=CC=CC=C3)...</td>\n",
       "      <td>260</td>\n",
       "      <td>22</td>\n",
       "      <td>501</td>\n",
       "    </tr>\n",
       "  </tbody>\n",
       "</table>\n",
       "<p>4649441 rows × 8 columns</p>\n",
       "</div>"
      ],
      "text/plain": [
       "                Drug1         Drug2                             SE  \\\n",
       "0        CID000002173  CID000003345                hypermagnesemia   \n",
       "1        CID000000853  CID000003345                hypermagnesemia   \n",
       "2        CID000003143  CID000003345                hypermagnesemia   \n",
       "3        CID000003168  CID000003345                hypermagnesemia   \n",
       "4        CID000000853  CID000004873                hypermagnesemia   \n",
       "...               ...           ...                            ...   \n",
       "4649436  CID000002308  CID000002541                 renal agenesis   \n",
       "4649437  CID000000450  CID000060852           estrogen replacement   \n",
       "4649438  CID000010631  CID000060852           estrogen replacement   \n",
       "4649439  CID000004585  CID000005076  hypogonadotropic hypogonadism   \n",
       "4649440  CID000004585  CID000060787  hypogonadotropic hypogonadism   \n",
       "\n",
       "                                               Drug1_smile  \\\n",
       "0        CC1(C(N2C(S1)C(C2=O)NC(=O)C(C3=CC=CC=C3)N)C(=O...   \n",
       "1        C1=C(C=C(C(=C1I)OC2=CC(=C(C(=C2)I)O)I)I)CC(C(=...   \n",
       "2        CC1=C2C(C(=O)C3(C(CC4C(C3C(C(C2(C)C)(CC1OC(=O)...   \n",
       "3        C1CN(CC=C1N2C3=CC=CC=C3NC2=O)CCCC(=O)C4=CC=C(C...   \n",
       "4        C1=C(C=C(C(=C1I)OC2=CC(=C(C(=C2)I)O)I)I)CC(C(=...   \n",
       "...                                                    ...   \n",
       "4649436  CC1CC2C3CCC4=CC(=O)C=CC4(C3(C(CC2(C1(C(=O)CO)O...   \n",
       "4649437                CC12CCC3C(C1CCC2O)CCC4=C3C=CC(=C4)O   \n",
       "4649438   CC1CC2C(CCC3(C2CCC3(C(=O)C)O)C)C4(C1=CC(=O)CC4)C   \n",
       "4649439           CC1=CC2=C(NC3=CC=CC=C3N=C2S1)N4CCN(CC4)C   \n",
       "4649440           CC1=CC2=C(NC3=CC=CC=C3N=C2S1)N4CCN(CC4)C   \n",
       "\n",
       "                                               Drug2_smile  Drug1_Index  \\\n",
       "0             CCC(=O)N(C1CCN(CC1)CCC2=CC=CC=C2)C3=CC=CC=C3          606   \n",
       "1             CCC(=O)N(C1CCN(CC1)CCC2=CC=CC=C2)C3=CC=CC=C3          397   \n",
       "2             CCC(=O)N(C1CCN(CC1)CCC2=CC=CC=C2)C3=CC=CC=C3          356   \n",
       "3             CCC(=O)N(C1CCN(CC1)CCC2=CC=CC=C2)C3=CC=CC=C3          616   \n",
       "4                                               [Cl-].[K+]          397   \n",
       "...                                                    ...          ...   \n",
       "4649436  CCOC1=NC2=CC=CC(=C2N1CC3=CC=C(C=C3)C4=CC=CC=C4...          337   \n",
       "4649437                CCCCCN(C)CCC(O)(P(=O)(O)O)P(=O)(O)O          447   \n",
       "4649438                CCCCCN(C)CCC(O)(P(=O)(O)O)P(=O)(O)O          226   \n",
       "4649439  CC(C)C1=NC(=CS1)CN(C)C(=O)NC(C(C)C)C(=O)NC(CC2...          260   \n",
       "4649440  CC(C)(C)NC(=O)C1CC2CCCCC2CN1CC(C(CC3=CC=CC=C3)...          260   \n",
       "\n",
       "         Drug2_Index  SE_Index  \n",
       "0                345      1024  \n",
       "1                345      1024  \n",
       "2                345      1024  \n",
       "3                345      1024  \n",
       "4                271      1024  \n",
       "...              ...       ...  \n",
       "4649436          403      1246  \n",
       "4649437          486       303  \n",
       "4649438          486       303  \n",
       "4649439          338       501  \n",
       "4649440           22       501  \n",
       "\n",
       "[4649441 rows x 8 columns]"
      ]
     },
     "execution_count": 5,
     "metadata": {},
     "output_type": "execute_result"
    }
   ],
   "source": [
    "# index the whole dataset\n",
    "data_indexed = data.merge(drug_idx, left_on = \"Drug1\", right_on =\"Drug_ID\").merge(drug_idx, left_on = \"Drug2\",right_on =\"Drug_ID\").merge(SE_idx, on = \"SE\")\n",
    "\n",
    "# Reconstruct \n",
    "data_indexed = data_indexed[[\"Drug1\", \"Drug2\", \"SE\", \"Drug1_smile\", \"Drug2_smile\", \"Drug_Index_x\", \"Drug_Index_y\", \"SE_Index_x\"]].rename(columns={\"Drug_Index_x\":\"Drug1_Index\", \"Drug_Index_y\":\"Drug2_Index\", \"SE_Index_x\":\"SE_Index\"})\n",
    "data_indexed"
   ]
  },
  {
   "cell_type": "markdown",
   "id": "aadf1dad-05ab-4568-b5f6-064844bc9b18",
   "metadata": {
    "tags": []
   },
   "source": [
    "## Labels "
   ]
  },
  {
   "cell_type": "code",
   "execution_count": 7,
   "id": "c4087997-05ab-4d91-b194-3ac253920eab",
   "metadata": {},
   "outputs": [],
   "source": [
    "# labels triplets [Drug1, Drug2, Side Effect]\n",
    "labels_triplets = np.array(data_indexed[['Drug1_Index', 'Drug2_Index', 'SE_Index']]).astype(int)"
   ]
  },
  {
   "cell_type": "code",
   "execution_count": 8,
   "id": "4c3894d1-f20a-4375-95f0-23bf436d1e4f",
   "metadata": {},
   "outputs": [
    {
     "data": {
      "text/plain": [
       "(645, 645, 1317)"
      ]
     },
     "execution_count": 8,
     "metadata": {},
     "output_type": "execute_result"
    }
   ],
   "source": [
    "# label tensor (Yabc)\n",
    "labels_tensor = labels_to_tensor(labels_triplets, drug_idx, SE_idx)\n",
    "labels_tensor.shape"
   ]
  },
  {
   "cell_type": "code",
   "execution_count": null,
   "id": "6427efa1-3069-44c4-b1ac-243cd17d71ee",
   "metadata": {},
   "outputs": [],
   "source": [
    "# save(labels_triplets, \"../Final_DF/TDC_Label.txt\")\n",
    "# labels_triplets = np.loadtxt(\"../Final_DF/TDC_Label.txt\") "
   ]
  },
  {
   "cell_type": "markdown",
   "id": "13e088ab-3fda-4a4a-a4e9-1ebbac9588a5",
   "metadata": {},
   "source": [
    "## Feature Vectorizatoin"
   ]
  },
  {
   "cell_type": "markdown",
   "id": "73b243d2-35f7-4337-929b-6ce99bc33639",
   "metadata": {},
   "source": [
    "### Drug \n",
    "[1] SMILES"
   ]
  },
  {
   "cell_type": "code",
   "execution_count": 9,
   "id": "0ed90cb8-86d6-4c8d-8e2f-529481610ff9",
   "metadata": {},
   "outputs": [],
   "source": [
    "# merge SMILES string to drug index dataset\n",
    "drug_idx_smile = merge_smile(data_indexed, drug_idx, columns = [[\"Drug1_Index\", \"Drug1_smile\" ],[\"Drug2_Index\", \"Drug2_smile\"]])     \n",
    "drug_idx_smile = drug_idx_smile[[\"Drug_ID\",\"Drug_Index\", \"Drug1_smile\"]].rename(columns = {\"Drug1_smile\":\"Drug_smile\"})"
   ]
  },
  {
   "cell_type": "code",
   "execution_count": 13,
   "id": "ddfeab78-8596-4f86-a803-dc0d68d7b300",
   "metadata": {},
   "outputs": [
    {
     "data": {
      "text/plain": [
       "(645, 9389)"
      ]
     },
     "execution_count": 13,
     "metadata": {},
     "output_type": "execute_result"
    }
   ],
   "source": [
    "# vectorize with one-hot coding of SMILES string\n",
    "drug_vectorized_smile = vectorize_smile(drug_idx_smile.Drug_smile)\n",
    "\n",
    "# reshape into 2D dimension \n",
    "drug_vectorized_smile = drug_vectorized_smile.reshape(drug_vectorized_smile.shape[0], drug_vectorized_smile.shape[1] * drug_vectorized_smile.shape[2])   # (645, 9389) "
   ]
  },
  {
   "cell_type": "markdown",
   "id": "34a1a363-e618-4253-ac0a-a9e72b1143cf",
   "metadata": {},
   "source": [
    "[2] Morgan fingerprint \n",
    "\n",
    "The molecule conversion API of TDC is applied."
   ]
  },
  {
   "cell_type": "code",
   "execution_count": 16,
   "id": "a72c1e4b-8c6e-422a-822b-5d9a00ddb012",
   "metadata": {},
   "outputs": [],
   "source": [
    "# convert SMILES string into morgan fingerprint with 1024 features \n",
    "converter = MolConvert(src = 'SMILES', dst = 'Morgan')  \n",
    "drug_vectorized_morgan = converter(drug_idx_smile.Drug_smile.values.tolist()).astype(\"int8\")     # (645, 1024)"
   ]
  },
  {
   "cell_type": "markdown",
   "id": "c5bb7b32-a6bc-42f5-8b41-4f9c3d158877",
   "metadata": {},
   "source": [
    "### Side Effect \n",
    "\n",
    "Drug-drug pair label is used as side information."
   ]
  },
  {
   "cell_type": "code",
   "execution_count": 18,
   "id": "4dca136a-e0f9-493d-9055-785b2e630708",
   "metadata": {},
   "outputs": [],
   "source": [
    "# index drug-drug combination \n",
    "combi_idx = drug_combi_index(drug_idx)   # (207690, 3)\n",
    "\n",
    "# merge into the data_indexed\n",
    "data_indexed_comb = data_indexed_combi(data_indexed, combi_idx)\n",
    "labels_triplets_drugcombi = np.array(data_indexed_comb[['Drug1_Index', 'Drug2_Index', 'SE_Index', \"Combi_Index\"]]).astype(int)"
   ]
  },
  {
   "cell_type": "code",
   "execution_count": 22,
   "id": "664fa19c-cfef-4807-9d86-c6e3c1d41d45",
   "metadata": {},
   "outputs": [],
   "source": [
    "# vectorizie into 2D tensor of data_indexed \n",
    "SE_vectorized = vectorize_drugcombi(labels_triplets_drugcombi, combi_idx, SE_idx)  # (1317, 207690)"
   ]
  },
  {
   "cell_type": "markdown",
   "id": "2ce41a47-89b6-44f2-a046-a36d0e49e59d",
   "metadata": {},
   "source": [
    "## Similarity Kernels"
   ]
  },
  {
   "cell_type": "markdown",
   "id": "a4156183-6787-4a85-87c8-3de1b1155217",
   "metadata": {},
   "source": [
    "### Drug"
   ]
  },
  {
   "cell_type": "markdown",
   "id": "7fd4b501-591d-4655-960b-3254fee2e4b2",
   "metadata": {},
   "source": [
    "[1] SMILES"
   ]
  },
  {
   "cell_type": "code",
   "execution_count": 28,
   "id": "c335804d-fa58-481d-a4bd-f7ed559784b0",
   "metadata": {},
   "outputs": [],
   "source": [
    "# cosine similarity \n",
    "K_drug_smile_cos = sklearn.metrics.pairwise.cosine_similarity(drug_vectorized_smile)"
   ]
  },
  {
   "cell_type": "code",
   "execution_count": null,
   "id": "40f4d5c7-00b4-40e4-a669-4ae8025efb37",
   "metadata": {},
   "outputs": [],
   "source": [
    "# tanimoto similarity  \n",
    "K_drug_smile_tanimoto = tanimoto_similarity_matrix(drug_vectorized_smile)"
   ]
  },
  {
   "cell_type": "markdown",
   "id": "56c0a120-ea1e-4b56-83e0-e44d1827495a",
   "metadata": {},
   "source": [
    "[2] Morgan fingerprint"
   ]
  },
  {
   "cell_type": "code",
   "execution_count": 29,
   "id": "029f512c-62de-4d26-b212-586cc98b8cd3",
   "metadata": {},
   "outputs": [],
   "source": [
    "# cosine similarity \n",
    "K_drug_morgan_cos = sklearn.metrics.pairwise.cosine_similarity(drug_vectorized_morgan)"
   ]
  },
  {
   "cell_type": "code",
   "execution_count": null,
   "id": "b357c2e5-5827-4b10-b0b6-f6c0942807ec",
   "metadata": {},
   "outputs": [],
   "source": [
    "# tanimoto similarity  \n",
    "K_drug_morgan_tanimoto = tanimoto_similarity_matrix(drug_vectorized_morgan)"
   ]
  },
  {
   "cell_type": "markdown",
   "id": "5dcdd426-99a4-44af-9e7b-eaae4023b1f3",
   "metadata": {},
   "source": [
    "### Side Effect "
   ]
  },
  {
   "cell_type": "code",
   "execution_count": 30,
   "id": "c6c3a412-abfa-4606-9c46-a9379e8dea8f",
   "metadata": {},
   "outputs": [],
   "source": [
    "# cosine similarity \n",
    "K_SE_cos = sklearn.metrics.pairwise.cosine_similarity(SE_vectorized)"
   ]
  },
  {
   "cell_type": "code",
   "execution_count": null,
   "id": "edaa6360-6efc-49e4-9334-a08dbc4ef476",
   "metadata": {},
   "outputs": [],
   "source": [
    "# jaccard similarity; similarity = 1 - distance \n",
    "K_SE_jacc = 1 - sklearn.metrics.pairwise_distances(SE_vectorized, metric ='jaccard')   ## for this, i have to use only train_data as we are using drug-drug pair (inside dataset): need to compute "
   ]
  },
  {
   "cell_type": "code",
   "execution_count": null,
   "id": "3f3e4d6e-138d-4b41-a06b-49c0d017b503",
   "metadata": {},
   "outputs": [],
   "source": [
    "# save(K_drug_smile_cos, \"../Final_DF/TDC_drug_smile_cos.txt\")\n",
    "# save(K_drug_smile_tanimoto, \"../Final_DF/TDC_drug_smile_tanimoto.txt\")\n",
    "# save(K_drug_morgan_cos, \"../Final_DF/TDC_drug_morgan_cos.txt\")\n",
    "# save(K_drug_morgan_tanimoto, \"../Final_DF/TDC_drug_morgana_tanimoto.txt\")\n",
    "# save(K_SE_cos, \"../Final_DF/TDC_SE_cos.txt\")\n",
    "# save(K_SE_jacc, \"../Final_DF/TDC_SE_jacc.txt\")"
   ]
  }
 ],
 "metadata": {
  "kernelspec": {
   "display_name": "Python 3 (ipykernel)",
   "language": "python",
   "name": "python3"
  },
  "language_info": {
   "codemirror_mode": {
    "name": "ipython",
    "version": 3
   },
   "file_extension": ".py",
   "mimetype": "text/x-python",
   "name": "python",
   "nbconvert_exporter": "python",
   "pygments_lexer": "ipython3",
   "version": "3.8.11"
  }
 },
 "nbformat": 4,
 "nbformat_minor": 5
}
