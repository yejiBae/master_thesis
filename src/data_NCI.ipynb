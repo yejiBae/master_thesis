{
 "cells": [
  {
   "cell_type": "markdown",
   "id": "6d731307-156e-4488-b7b6-d377644188d8",
   "metadata": {},
   "source": [
    "# NCI"
   ]
  },
  {
   "cell_type": "code",
   "execution_count": 54,
   "id": "f3a34d74-3fa5-44d4-8063-0ef896d0d202",
   "metadata": {},
   "outputs": [],
   "source": [
    "import pandas as pd  \n",
    "import numpy as np\n",
    "\n",
    "from tdc.chem_utils import MolConvert\n",
    "import sklearn.metrics.pairwise\n",
    "from sklearn.metrics import pairwise_distances\n",
    "\n",
    "import matplotlib.pyplot as plt\n",
    "\n",
    "import nbimporter\n",
    "from assistant import y_index, save, labels_to_tensor, vectorize_smile, drug_combi_index, data_indexed_combi, vectorize_drugcombi, tanimoto_similarity_matrix"
   ]
  },
  {
   "cell_type": "markdown",
   "id": "82334da6-3fe1-4b08-ab97-0de916fa361e",
   "metadata": {},
   "source": [
    "## NCI Dataset "
   ]
  },
  {
   "cell_type": "code",
   "execution_count": 9,
   "id": "6af81306-f4c5-4a3f-8902-943e6a9a9125",
   "metadata": {},
   "outputs": [
    {
     "data": {
      "text/html": [
       "<div>\n",
       "<style scoped>\n",
       "    .dataframe tbody tr th:only-of-type {\n",
       "        vertical-align: middle;\n",
       "    }\n",
       "\n",
       "    .dataframe tbody tr th {\n",
       "        vertical-align: top;\n",
       "    }\n",
       "\n",
       "    .dataframe thead th {\n",
       "        text-align: right;\n",
       "    }\n",
       "</style>\n",
       "<table border=\"1\" class=\"dataframe\">\n",
       "  <thead>\n",
       "    <tr style=\"text-align: right;\">\n",
       "      <th></th>\n",
       "      <th>Conc1</th>\n",
       "      <th>Conc2</th>\n",
       "      <th>Drug1</th>\n",
       "      <th>Drug2</th>\n",
       "      <th>CellLine</th>\n",
       "      <th>PercentageGrowth</th>\n",
       "    </tr>\n",
       "  </thead>\n",
       "  <tbody>\n",
       "    <tr>\n",
       "      <th>0</th>\n",
       "      <td>0.000000e+00</td>\n",
       "      <td>1.000000e-03</td>\n",
       "      <td>Idarubicin hydrochloride</td>\n",
       "      <td>Streptozocin</td>\n",
       "      <td>786-0</td>\n",
       "      <td>86.842</td>\n",
       "    </tr>\n",
       "    <tr>\n",
       "      <th>1</th>\n",
       "      <td>0.000000e+00</td>\n",
       "      <td>1.000000e-03</td>\n",
       "      <td>4'-Epiadriamycin</td>\n",
       "      <td>Streptozocin</td>\n",
       "      <td>786-0</td>\n",
       "      <td>86.842</td>\n",
       "    </tr>\n",
       "    <tr>\n",
       "      <th>2</th>\n",
       "      <td>0.000000e+00</td>\n",
       "      <td>1.000000e-04</td>\n",
       "      <td>Azacitidine</td>\n",
       "      <td>Dexrazoxane</td>\n",
       "      <td>786-0</td>\n",
       "      <td>72.371</td>\n",
       "    </tr>\n",
       "    <tr>\n",
       "      <th>3</th>\n",
       "      <td>0.000000e+00</td>\n",
       "      <td>1.000000e-04</td>\n",
       "      <td>Azacitidine</td>\n",
       "      <td>Fluorouracil</td>\n",
       "      <td>786-0</td>\n",
       "      <td>36.165</td>\n",
       "    </tr>\n",
       "    <tr>\n",
       "      <th>4</th>\n",
       "      <td>0.000000e+00</td>\n",
       "      <td>1.000000e-04</td>\n",
       "      <td>Azacitidine</td>\n",
       "      <td>Chlorambucil</td>\n",
       "      <td>786-0</td>\n",
       "      <td>44.122</td>\n",
       "    </tr>\n",
       "    <tr>\n",
       "      <th>...</th>\n",
       "      <td>...</td>\n",
       "      <td>...</td>\n",
       "      <td>...</td>\n",
       "      <td>...</td>\n",
       "      <td>...</td>\n",
       "      <td>...</td>\n",
       "    </tr>\n",
       "    <tr>\n",
       "      <th>4944595</th>\n",
       "      <td>8.000000e-09</td>\n",
       "      <td>5.000000e-09</td>\n",
       "      <td>Nilotinib</td>\n",
       "      <td>Cabazitaxel</td>\n",
       "      <td>SK-MEL-28</td>\n",
       "      <td>42.582</td>\n",
       "    </tr>\n",
       "    <tr>\n",
       "      <th>4944596</th>\n",
       "      <td>8.000000e-09</td>\n",
       "      <td>5.000000e-10</td>\n",
       "      <td>Nilotinib</td>\n",
       "      <td>Cabazitaxel</td>\n",
       "      <td>SK-MEL-28</td>\n",
       "      <td>70.324</td>\n",
       "    </tr>\n",
       "    <tr>\n",
       "      <th>4944597</th>\n",
       "      <td>8.000000e-09</td>\n",
       "      <td>7.500000e-05</td>\n",
       "      <td>Nilotinib</td>\n",
       "      <td>Altretamine</td>\n",
       "      <td>SK-MEL-28</td>\n",
       "      <td>89.767</td>\n",
       "    </tr>\n",
       "    <tr>\n",
       "      <th>4944598</th>\n",
       "      <td>8.000000e-09</td>\n",
       "      <td>7.500000e-06</td>\n",
       "      <td>Nilotinib</td>\n",
       "      <td>Altretamine</td>\n",
       "      <td>SK-MEL-28</td>\n",
       "      <td>104.690</td>\n",
       "    </tr>\n",
       "    <tr>\n",
       "      <th>4944599</th>\n",
       "      <td>8.000000e-09</td>\n",
       "      <td>7.500000e-07</td>\n",
       "      <td>Nilotinib</td>\n",
       "      <td>Altretamine</td>\n",
       "      <td>SK-MEL-28</td>\n",
       "      <td>112.102</td>\n",
       "    </tr>\n",
       "  </tbody>\n",
       "</table>\n",
       "<p>4944600 rows × 6 columns</p>\n",
       "</div>"
      ],
      "text/plain": [
       "                Conc1         Conc2                     Drug1         Drug2  \\\n",
       "0        0.000000e+00  1.000000e-03  Idarubicin hydrochloride  Streptozocin   \n",
       "1        0.000000e+00  1.000000e-03          4'-Epiadriamycin  Streptozocin   \n",
       "2        0.000000e+00  1.000000e-04               Azacitidine   Dexrazoxane   \n",
       "3        0.000000e+00  1.000000e-04               Azacitidine  Fluorouracil   \n",
       "4        0.000000e+00  1.000000e-04               Azacitidine  Chlorambucil   \n",
       "...               ...           ...                       ...           ...   \n",
       "4944595  8.000000e-09  5.000000e-09                 Nilotinib   Cabazitaxel   \n",
       "4944596  8.000000e-09  5.000000e-10                 Nilotinib   Cabazitaxel   \n",
       "4944597  8.000000e-09  7.500000e-05                 Nilotinib   Altretamine   \n",
       "4944598  8.000000e-09  7.500000e-06                 Nilotinib   Altretamine   \n",
       "4944599  8.000000e-09  7.500000e-07                 Nilotinib   Altretamine   \n",
       "\n",
       "          CellLine  PercentageGrowth  \n",
       "0            786-0            86.842  \n",
       "1            786-0            86.842  \n",
       "2            786-0            72.371  \n",
       "3            786-0            36.165  \n",
       "4            786-0            44.122  \n",
       "...            ...               ...  \n",
       "4944595  SK-MEL-28            42.582  \n",
       "4944596  SK-MEL-28            70.324  \n",
       "4944597  SK-MEL-28            89.767  \n",
       "4944598  SK-MEL-28           104.690  \n",
       "4944599  SK-MEL-28           112.102  \n",
       "\n",
       "[4944600 rows x 6 columns]"
      ]
     },
     "execution_count": 9,
     "metadata": {},
     "output_type": "execute_result"
    }
   ],
   "source": [
    "# full data\n",
    "full_data = pd.read_csv('./data/NCI-ALMANAC/NCI-ALMANAC_full_data.csv')\n",
    "full_data"
   ]
  },
  {
   "cell_type": "markdown",
   "id": "1761d1a3-70e5-416e-8f9b-721c2f1aff53",
   "metadata": {},
   "source": [
    "### Preprocessing "
   ]
  },
  {
   "cell_type": "code",
   "execution_count": 10,
   "id": "8e7edacc-d3ad-4863-9df1-f008f0fa8192",
   "metadata": {},
   "outputs": [],
   "source": [
    "# filter out the datasets where PercentageGrowth == NaN \n",
    "data = full_data.drop(full_data[full_data.PercentageGrowth.isna()].index)\n",
    "\n",
    "# drug name \"Pemetrexed Disodium \" --> \"Pemetrexed Disodium\" removed space\n",
    "data.loc[data.Drug1 == \"Pemetrexed Disodium \", \"Drug1\"] = \"Pemetrexed Disodium\""
   ]
  },
  {
   "cell_type": "markdown",
   "id": "0e2b9806-d427-4a0d-8c86-66b98b9585b7",
   "metadata": {},
   "source": [
    "### Indexing Dataset"
   ]
  },
  {
   "cell_type": "code",
   "execution_count": 19,
   "id": "948bb5c9-c2df-47f6-b45b-3d0dcd6d1afb",
   "metadata": {
    "tags": []
   },
   "outputs": [],
   "source": [
    "# given drug information with SMILES string\n",
    "drug = pd.read_csv(\"./data/NCI-ALMANAC/additional_data/drugs__SMILES.csv\")"
   ]
  },
  {
   "cell_type": "code",
   "execution_count": 20,
   "id": "f9142516-afb3-4061-af21-5e7e275fde0e",
   "metadata": {},
   "outputs": [],
   "source": [
    "# index drug (that is also applicablie for morgan fingerprint)\n",
    "drug_idx = drug.drop(drug[drug.Drug == \"Cisplatin\"].index).reset_index(drop=True)   # 'Cisplatin' = [H][N]([H])([H])[Pt](Cl)(Cl)[N]([H])([H])[H] is not able to be converted to morgan fingerprint\n",
    "drug_idx[\"Drug_Index\"] = drug_idx.index\n",
    "\n",
    "# index CellLine \n",
    "distinct_cellLine = set(data.CellLine)\n",
    "cellLine_idx = y_index(distinct_cellLine, \"CellLine\")"
   ]
  },
  {
   "cell_type": "code",
   "execution_count": 22,
   "id": "3993c194-a533-48d6-8c48-f2ff8dcdde8e",
   "metadata": {},
   "outputs": [],
   "source": [
    "# index the whole dataset\n",
    "data_indexed = data.merge(drug_idx, left_on='Drug1', right_on='Drug').rename(columns={\"Drug_Index\":\"Drug1_Index\"})\n",
    "data_indexed = data_indexed.merge(drug_idx, left_on='Drug2', right_on='Drug').rename(columns={\"Drug_Index\":\"Drug2_Index\"})\n",
    "data_indexed = data_indexed.merge(cellLine_idx) "
   ]
  },
  {
   "cell_type": "code",
   "execution_count": 24,
   "id": "7502024b-74b3-46ff-b97b-c8b1eaba2c4b",
   "metadata": {},
   "outputs": [],
   "source": [
    "# reconstruct the dataset by averaging the PercentageGrowth \n",
    "data_avg = data_indexed.groupby(['Drug1_Index', 'Drug2_Index', 'CellLine_Index']).agg({'PercentageGrowth': 'mean'})\n",
    "data_avg = data_avg.reset_index()"
   ]
  },
  {
   "cell_type": "code",
   "execution_count": 25,
   "id": "79daf38e-3d44-4b17-83b6-9ea9a46676b7",
   "metadata": {},
   "outputs": [
    {
     "data": {
      "text/plain": [
       "(array([4.0000e+00, 3.0000e+00, 9.0000e+00, 2.0000e+01, 4.2000e+01,\n",
       "        5.2000e+01, 7.0000e+01, 1.0500e+02, 1.4000e+02, 2.3000e+02,\n",
       "        2.3500e+02, 3.0400e+02, 3.2900e+02, 4.1800e+02, 6.1100e+02,\n",
       "        8.4900e+02, 8.2800e+02, 1.0410e+03, 1.2510e+03, 1.8460e+03,\n",
       "        2.5140e+03, 3.4950e+03, 4.7030e+03, 6.1440e+03, 8.3600e+03,\n",
       "        1.0514e+04, 1.2406e+04, 1.4435e+04, 1.6872e+04, 2.0579e+04,\n",
       "        2.4338e+04, 2.6089e+04, 2.8414e+04, 3.2686e+04, 3.9475e+04,\n",
       "        3.0695e+04, 1.1075e+04, 2.8880e+03, 8.9600e+02, 3.2900e+02,\n",
       "        1.5400e+02, 7.1000e+01, 2.8000e+01, 2.2000e+01, 5.0000e+00,\n",
       "        5.0000e+00, 1.0000e+00, 1.0000e+00, 1.0000e+00, 2.0000e+00]),\n",
       " array([-82.85   , -77.64876, -72.44752, -67.24628, -62.04504, -56.8438 ,\n",
       "        -51.64256, -46.44132, -41.24008, -36.03884, -30.8376 , -25.63636,\n",
       "        -20.43512, -15.23388, -10.03264,  -4.8314 ,   0.36984,   5.57108,\n",
       "         10.77232,  15.97356,  21.1748 ,  26.37604,  31.57728,  36.77852,\n",
       "         41.97976,  47.181  ,  52.38224,  57.58348,  62.78472,  67.98596,\n",
       "         73.1872 ,  78.38844,  83.58968,  88.79092,  93.99216,  99.1934 ,\n",
       "        104.39464, 109.59588, 114.79712, 119.99836, 125.1996 , 130.40084,\n",
       "        135.60208, 140.80332, 146.00456, 151.2058 , 156.40704, 161.60828,\n",
       "        166.80952, 172.01076, 177.212  ]),\n",
       " <BarContainer object of 50 artists>)"
      ]
     },
     "execution_count": 25,
     "metadata": {},
     "output_type": "execute_result"
    },
    {
     "data": {
      "image/png": "[encoded data removed]",
      "text/plain": [
       "<Figure size 432x288 with 1 Axes>"
      ]
     },
     "metadata": {
      "needs_background": "light"
     },
     "output_type": "display_data"
    }
   ],
   "source": [
    "plt.hist(data_avg.PercentageGrowth, bins=50)"
   ]
  },
  {
   "cell_type": "code",
   "execution_count": 26,
   "id": "909c3bae-45b2-40cd-80c0-880dc72d271f",
   "metadata": {},
   "outputs": [],
   "source": [
    "data_avg_thres = data_avg[abs(data_avg.PercentageGrowth) >= 100]  # --> 100 "
   ]
  },
  {
   "cell_type": "markdown",
   "id": "59fb1500-bb6a-4e66-99fd-d2c15beb6cfa",
   "metadata": {},
   "source": [
    "## Labels"
   ]
  },
  {
   "cell_type": "code",
   "execution_count": 37,
   "id": "bdf69e05-1cc4-408b-afce-8c00a71417d7",
   "metadata": {},
   "outputs": [],
   "source": [
    "# labels quadruplets [Drug1, Drug2, CellLine, PercentageGrowth]\n",
    "labels_quadruplet = np.array(data_avg_thres[['Drug1_Index', 'Drug2_Index', 'CellLine_Index',\"PercentageGrowth\"]]).astype(int)\n",
    "labels_quadruplet = labels_quadruplet[labels_quadruplet[:,0] != labels_quadruplet[:,1]]"
   ]
  },
  {
   "cell_type": "code",
   "execution_count": 39,
   "id": "8ed2e536-d5d2-43aa-b3b4-6a8eb9b7ea2b",
   "metadata": {},
   "outputs": [],
   "source": [
    "# label tensor (Yabc)\n",
    "labels_tensor = labels_to_tensor(labels_quadruplet, drug_idx, cellLine_idx)"
   ]
  },
  {
   "cell_type": "code",
   "execution_count": null,
   "id": "ef84cc77-da83-4cd0-947b-9cf47119a829",
   "metadata": {},
   "outputs": [],
   "source": [
    "# save(labels_quadruplet, \"../Final_DF/NCI_Label_filtered.txt\")\n",
    "# labels_quadruplet = np.loadtxt(\"../Final_DF/NCI_Label_filtered.txt\") "
   ]
  },
  {
   "cell_type": "markdown",
   "id": "3366666b-1d52-4093-8659-7b100ee03c6b",
   "metadata": {},
   "source": [
    "## Feature Vectorizatoin"
   ]
  },
  {
   "cell_type": "markdown",
   "id": "8827643c-2c7c-44e7-81c9-aafafd718776",
   "metadata": {},
   "source": [
    "### Drug\n",
    "[1] SMILES"
   ]
  },
  {
   "cell_type": "code",
   "execution_count": 43,
   "id": "996b147b-5380-4ec9-b87b-6061e7288ee4",
   "metadata": {},
   "outputs": [],
   "source": [
    "# vectorize with one-hot coding of SMILES string\n",
    "drug_vectorized_smile = vectorize_smile(drug_idx.SMILE)  # (103, 260, 35)\n",
    "\n",
    "# reshape into 2D dimension   \n",
    "drug_vectorized_smile = drug_vectorized_smile.reshape(drug_vectorized_smile.shape[0], drug_vectorized_smile.shape[1] * drug_vectorized_smile.shape[2])  # (103, 9100)"
   ]
  },
  {
   "cell_type": "markdown",
   "id": "d5f173c2-045e-4c60-bfd0-dd9c27604605",
   "metadata": {},
   "source": [
    "[2] Morgan fingerprint \n",
    "\n",
    "The molecule conversion API of TDC is applied."
   ]
  },
  {
   "cell_type": "code",
   "execution_count": 46,
   "id": "b7ed9c66-01e2-427f-a4bf-d98944871e3e",
   "metadata": {},
   "outputs": [],
   "source": [
    "# convert SMILES string into morgan fingerprint with 1024 features \n",
    "converter = MolConvert(src = 'SMILES', dst = 'Morgan')\n",
    "drug_vectorized_morgan = converter(drug_idx.SMILE.values.tolist()).astype(\"int8\")  # (103, 1024)"
   ]
  },
  {
   "cell_type": "markdown",
   "id": "2e38196b-b162-44cb-80a9-054ebd666690",
   "metadata": {},
   "source": [
    "### Cancer Cell Line"
   ]
  },
  {
   "cell_type": "code",
   "execution_count": 49,
   "id": "0ddaefe7-c4d5-448c-a877-8c096ef7aafe",
   "metadata": {},
   "outputs": [],
   "source": [
    "# index drug-drug combination\n",
    "combi_idx = drug_combi_index(drug_idx)   # (5253, 3)\n",
    "\n",
    "# merge into the data_indexed\n",
    "data_indexed_combi = data_indexed_combi(data_avg_thres, combi_idx)\n",
    "labels_triplets_drugcombi = np.array(data_indexed_combi[['Drug1_Index', 'Drug2_Index', 'CellLine_Index', \"Combi_Index\"]]).astype(int)"
   ]
  },
  {
   "cell_type": "code",
   "execution_count": 52,
   "id": "70418fbf-e1ea-46e9-a16e-bc00033b1b25",
   "metadata": {},
   "outputs": [],
   "source": [
    "# vectorize into 2D tensor of data_indexed \n",
    "cellLine_vectorized = vectorize_drugcombi(labels_triplets_drugcombi, combi_idx, cellLine_idx)"
   ]
  },
  {
   "cell_type": "markdown",
   "id": "b81f7a8d-7421-49a4-a4e5-4b7cc1335a20",
   "metadata": {},
   "source": [
    "## Similarity Kernels"
   ]
  },
  {
   "cell_type": "markdown",
   "id": "719ae7ce-8f48-41d8-ad3b-1085b701a311",
   "metadata": {},
   "source": [
    "### Drug\n",
    "[1] SMILES"
   ]
  },
  {
   "cell_type": "code",
   "execution_count": null,
   "id": "9a8c4284-82e2-4c30-a2f6-64521b825ca6",
   "metadata": {},
   "outputs": [],
   "source": [
    "# cosine similarity \n",
    "K_drug_smile_cos = sklearn.metrics.pairwise.cosine_similarity(drug_vectorized_smile)"
   ]
  },
  {
   "cell_type": "code",
   "execution_count": null,
   "id": "a964fe26-4e6b-42e5-96ee-111da2804559",
   "metadata": {},
   "outputs": [],
   "source": [
    "# tanimoto similarity\n",
    "K_drug_smile_tanimoto = tanimoto_similarity_matrix(drug_vectorized_smile)"
   ]
  },
  {
   "cell_type": "markdown",
   "id": "b78abadb-4d61-4a63-b304-8d25136af860",
   "metadata": {},
   "source": [
    "[2] Morgan fingerprint"
   ]
  },
  {
   "cell_type": "code",
   "execution_count": null,
   "id": "e0d616bc-8904-4993-a075-f7962b0e4ec0",
   "metadata": {},
   "outputs": [],
   "source": [
    "# cosine similarity \n",
    "K_drug_morgan_cos = sklearn.metrics.pairwise.cosine_similarity(drug_vectorized_morgan)"
   ]
  },
  {
   "cell_type": "code",
   "execution_count": null,
   "id": "8c9888e1-50af-4238-95ab-3fa9dde3ba02",
   "metadata": {},
   "outputs": [],
   "source": [
    "# tanimoto similarity\n",
    "K_drug_morgan_tanimoto = tanimoto_similarity_matrix(drug_vectorized_morgan)"
   ]
  },
  {
   "cell_type": "markdown",
   "id": "a13dc259-5bf5-41e0-9dc8-ffe1bd07062e",
   "metadata": {},
   "source": [
    "### Cancer cell line"
   ]
  },
  {
   "cell_type": "code",
   "execution_count": null,
   "id": "7241179f-eaac-4841-aea2-8559882d96d9",
   "metadata": {},
   "outputs": [],
   "source": [
    "# cosine similarity \n",
    "K_CellLine_cos = sklearn.metrics.pairwise.cosine_similarity(cellLine_vectorized)"
   ]
  },
  {
   "cell_type": "code",
   "execution_count": null,
   "id": "fcfaf715-fb41-495d-81d1-eb35fb20829e",
   "metadata": {},
   "outputs": [],
   "source": [
    "# jaccard similarity\n",
    "K_CellLine_jacc = 1 - sklearn.metrics.pairwise_distances(cellLine_vectorized, metric ='jaccard')   "
   ]
  },
  {
   "cell_type": "code",
   "execution_count": null,
   "id": "4d474f4c-bd7e-4f32-8b37-0091c1c14e53",
   "metadata": {},
   "outputs": [],
   "source": [
    "# save(K_drug_smile_cos, \"../Final_DF/NCI_drug_smile_cos.txt\")\n",
    "# save(K_drug_smile_tanimoto, \"../Final_DF/NCI_drug_smile_tanimoto.txt\")\n",
    "# save(K_drug_morgan_cos, \"../Final_DF/NCI_drug_morgan_cos.txt\")\n",
    "# save(K_drug_morgan_tanimoto, \"../Final_DF/NCI_drug_morgana_tanimoto.txt\")\n",
    "# save(K_CellLine_cos, \"../Final_DF/NCI_CellLine_cos.txt\")\n",
    "# save(K_CellLine_jacc, \"../Final_DF/NCI_CellLine_jacc.txt\")"
   ]
  },
  {
   "cell_type": "markdown",
   "id": "5b848dfb-b7aa-4135-841d-82a6e1279e72",
   "metadata": {
    "tags": []
   },
   "source": [
    "### Further Experiments\n",
    "We adjusted the imbalanced class ratio to study the influence of it."
   ]
  },
  {
   "cell_type": "code",
   "execution_count": null,
   "id": "fc24dc4c-35ea-408a-8e2d-6e5566e72caa",
   "metadata": {},
   "outputs": [],
   "source": [
    "# corresponding to TDC label ratio 1.7 %\n",
    "data_avg_thres_tdc = data_avg[abs(data_avg.PercentageGrowth) >= 108.8]  # 5363 \n",
    "\n",
    "# corresponding to DCDB label ratio 0.0018 %\n",
    "data_avg_thres_dcdb = data_avg[abs(data_avg.PercentageGrowth) >= 156] # 6 \n",
    "\n",
    "# corresponding to 1%, 2% 5%, 10% \n",
    "data_avg_thres_1 = data_avg[abs(data_avg.PercentageGrowth) >=111]  # 3247\n",
    "data_avg_thres_2 = data_avg[abs(data_avg.PercentageGrowth) >=108.2]  # 6227\n",
    "data_avg_thres_5 = data_avg[abs(data_avg.PercentageGrowth) >=104.4]  # 15461\n",
    "data_avg_thres_10 = data_avg[abs(data_avg.PercentageGrowth) >=101.57]  # 29388"
   ]
  },
  {
   "cell_type": "code",
   "execution_count": null,
   "id": "391da8d1-1549-46b3-9385-b66cdc8fa425",
   "metadata": {},
   "outputs": [],
   "source": [
    "labels_quadruplet_tdc = np.array(data_avg_thres2[['Drug1_Index', 'Drug2_Index', 'CellLine_Index',\"PercentageGrowth\"]]).astype(int)\n",
    "labels_quadruplet_dcdb = np.array(data_avg_thres3[['Drug1_Index', 'Drug2_Index', 'CellLine_Index',\"PercentageGrowth\"]]).astype(int)\n",
    "\n",
    "labels_quadruplet_1 = np.array(data_avg_thres_1[['Drug1_Index', 'Drug2_Index', 'CellLine_Index',\"PercentageGrowth\"]]).astype(int)\n",
    "labels_quadruplet_2 = np.array(data_avg_thres_2[['Drug1_Index', 'Drug2_Index', 'CellLine_Index',\"PercentageGrowth\"]]).astype(int)\n",
    "labels_quadruplet_5 = np.array(data_avg_thres_5[['Drug1_Index', 'Drug2_Index', 'CellLine_Index',\"PercentageGrowth\"]]).astype(int)\n",
    "labels_quadruplet_10 = np.array(data_avg_thres_10[['Drug1_Index', 'Drug2_Index', 'CellLine_Index',\"PercentageGrowth\"]]).astype(int)"
   ]
  },
  {
   "cell_type": "code",
   "execution_count": null,
   "id": "26918cbc-aca3-4b8b-8d6b-e15fbf0ed05a",
   "metadata": {},
   "outputs": [],
   "source": [
    "labels_quadruplet_tdc = labels_quadruplet2[labels_quadruplet2[:,0] != labels_quadruplet2[:,1]]\n",
    "labels_quadruplet_dcdb = labels_quadruplet3[labels_quadruplet3[:,0] != labels_quadruplet3[:,1]]\n",
    "\n",
    "labels_quadruplet_1 = labels_quadruplet_1[labels_quadruplet_1[:,0] != labels_quadruplet_1[:,1]]\n",
    "labels_quadruplet_2 = labels_quadruplet_2[labels_quadruplet_2[:,0] != labels_quadruplet_2[:,1]]\n",
    "labels_quadruplet_5 = labels_quadruplet_5[labels_quadruplet_5[:,0] != labels_quadruplet_5[:,1]]\n",
    "labels_quadruplet_10 = labels_quadruplet_10[labels_quadruplet_10[:,0] != labels_quadruplet_10[:,1]]"
   ]
  },
  {
   "cell_type": "code",
   "execution_count": null,
   "id": "8c4667aa-d549-45b4-b696-4e3ba29205be",
   "metadata": {},
   "outputs": [],
   "source": [
    "# save(labels_quadruplet_tdc, \"../Final_DF/NCI_Label_filtered_tdc.txt\")\n",
    "# save(labels_quadruplet_dcdb, \"../Final_DF/NCI_Label_filtered_dcdb.txt\")\n",
    "\n",
    "# save(labels_quadruplet_1, \"../Final_DF/NCI_Label_filtered_1.txt\")\n",
    "# save(labels_quadruplet_2, \"../Final_DF/NCI_Label_filtered_2.txt\")\n",
    "# save(labels_quadruplet_5, \"../Final_DF/NCI_Label_filtered_5.txt\")\n",
    "# save(labels_quadruplet_10, \"../Final_DF/NCI_Label_filtered_10.txt\")"
   ]
  }
 ],
 "metadata": {
  "kernelspec": {
   "display_name": "Python 3 (ipykernel)",
   "language": "python",
   "name": "python3"
  },
  "language_info": {
   "codemirror_mode": {
    "name": "ipython",
    "version": 3
   },
   "file_extension": ".py",
   "mimetype": "text/x-python",
   "name": "python",
   "nbconvert_exporter": "python",
   "pygments_lexer": "ipython3",
   "version": "3.8.11"
  }
 },
 "nbformat": 4,
 "nbformat_minor": 5
}
