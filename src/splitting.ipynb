{
 "cells": [
  {
   "cell_type": "code",
   "execution_count": null,
   "id": "e8cc6819-a5c7-48a6-8fa4-70fa9c5e2464",
   "metadata": {},
   "outputs": [],
   "source": [
    "import glob\n",
    "import numpy as np\n",
    "import sklearn.metrics.pairwise\n",
    "\n",
    "import nbimporter\n",
    "from assistant import triplets_to_tensor, vectorize_smile"
   ]
  },
  {
   "cell_type": "code",
   "execution_count": null,
   "id": "171002e6-cac7-4140-9bb3-cfeeed89162f",
   "metadata": {},
   "outputs": [],
   "source": [
    "# from sklearn.model_selection import KFold\n",
    "# import matplotlib.pyplot as plt\n",
    "# import copy"
   ]
  },
  {
   "cell_type": "markdown",
   "id": "38e3c028-0fdc-4d12-8f3a-998cf47b917a",
   "metadata": {},
   "source": [
    "## Split"
   ]
  },
  {
   "cell_type": "code",
   "execution_count": null,
   "id": "52aacb37-e8a7-4304-978f-67944203ccf8",
   "metadata": {},
   "outputs": [],
   "source": [
    "def Split_T1(labels_tensor, dirname, n_splits):   \n",
    "    \"\"\"\n",
    "    [drug, drug, featrue] triplets are randomly assigned.\n",
    "    \n",
    "    # possible dirname = [\"../Final_Experiments/\" + \"TDC\" or \"DCDB\" or \"NCI\"] \n",
    "    # Output: splitted train, test triplets are saved as txt file\n",
    "    \"\"\"\n",
    "    \n",
    "    # index into triplets\n",
    "    pos_idx = np.transpose(np.where(labels_tensor == 1)).astype('int16')\n",
    "    neg_idx = np.transpose(np.where(labels_tensor == 0) ).astype('int16')\n",
    "    neg_idx = neg_idx[(neg_idx[:,0] != neg_idx[:,1])]\n",
    "\n",
    "    kf = KFold(n_splits=n_splits, shuffle=True)\n",
    "    \n",
    "    # split positive label\n",
    "    i,j = 0,0\n",
    "    for train_pos_idx, test_pos_idx in kf.split(pos_idx):\n",
    "        test_pos = pos_idx[test_pos_idx]\n",
    "        np.save(dirname+\"/T1_test_pos_{}\".format(i), test_pos)\n",
    "        i += 1 \n",
    "\n",
    "    # split negative label\n",
    "    for train_neg_idx, test_neg_idx in kf.split(neg_idx):\n",
    "        test_neg = neg_idx[test_neg_idx]\n",
    "        np.save(dirname+\"/T1_test_neg_{}\".format(j), test_neg)\n",
    "        j += 1\n",
    "        "
   ]
  },
  {
   "cell_type": "code",
   "execution_count": null,
   "id": "c40050ba-d805-4aab-bf15-22693e2d92a5",
   "metadata": {},
   "outputs": [],
   "source": [
    "def Split_T2(labels_tensor, dirname, n_splits): \n",
    "    \"\"\"\n",
    "    Drug-Drug pairs (combination of drugs) are randomly assigned\n",
    "    \"\"\"\n",
    "    \n",
    "    # define the drug-drug pairs\n",
    "    drug_pairs = np.asarray([[i,j] for i in range(len(labels_tensor)) for j in range(i+1,len(labels_tensor))]) # only one of the two symmetric versions of drug-drug pair\n",
    "    \n",
    "    kf = KFold(n_splits=n_splits, shuffle=True)\n",
    "\n",
    "    i=0\n",
    "    for train_index, test_index in kf.split(drug_pairs): # save train and test pairs\n",
    "        train, test = drug_pairs[train_index], drug_pairs[test_index]\n",
    "        np.save(dirname+\"/T2_train_{}\".format(i), np.asarray(train))\n",
    "        np.save(dirname+\"/T2_test_{}\".format(i), np.asarray(test))\n",
    "        i += 1"
   ]
  },
  {
   "cell_type": "code",
   "execution_count": null,
   "id": "12a5873c-2fc1-4c59-8226-66820b09408e",
   "metadata": {},
   "outputs": [],
   "source": [
    "def Split_T3(labels_tensor, dirname, n_splits):\n",
    "    \"\"\"\n",
    "    One drug are randomly assigned (this split also can be applicable for spltting of setting 4)\n",
    "    \"\"\" \n",
    "\n",
    "    drugs = np.asarray([i for i in range(len(labels_tensor))])\n",
    "    kf = KFold(n_splits=n_splits, shuffle=True)\n",
    "    \n",
    "    # Split into train, test drug\n",
    "    i = 0 \n",
    "    for train_drug, test_drug in kf.split(drugs): \n",
    "        np.save(dirname+\"/T3_train_{}\".format(i), np.asarray(train_drug))\n",
    "        np.save(dirname+\"/T3_test_{}\".format(i), np.asarray(test_drug))\n",
    "        i += 1"
   ]
  },
  {
   "cell_type": "markdown",
   "id": "57db47c7-8b2e-424f-914c-16de6d407cc4",
   "metadata": {},
   "source": [
    "#### Compute the similarity kernels that use training labels as feature"
   ]
  },
  {
   "cell_type": "code",
   "execution_count": null,
   "id": "8d6ebff5-6b73-4041-a42a-7bccb6e4d415",
   "metadata": {},
   "outputs": [],
   "source": [
    "def Kernels_T2(labels_tensor, trains, tests, dirname, effect_name):   \n",
    "    \"\"\"\n",
    "    build drugs and labels kernel for each training\n",
    "    \"\"\"\n",
    "    for fold in range(len(trains)): \n",
    "        train = np.load(trains[fold])\n",
    "        test = np.load(tests[fold])\n",
    "    \n",
    "        # use the train pairs to construct kernels with drug combination as side information \n",
    "        effectfeatures = np.asarray([[labels_tensor[:,:,se][train[i][0], train[i][1]] for i in range(len(train))] for se in range(len(labels_tensor[1,1,:]))])  \n",
    "        \n",
    "        # cosine similarity\n",
    "        K_Y_cos = sklearn.metrics.pairwise.cosine_similarity(effectfeatures, effectfeatures)        \n",
    "        np.save(dirname+\"/T2_train_K_{}_cos_{}\".format(effect_name,fold), K_Y_cos)\n",
    "\n",
    "        # jaccard similarity\n",
    "        K_Y_jacc = 1 - sklearn.metrics.pairwise_distances(effectfeatures, metric ='jaccard')\n",
    "        np.save(dirname+\"/T2_train_K_{}_jacc_{}\".format(effect_name, fold), K_Y_jacc)"
   ]
  },
  {
   "cell_type": "code",
   "execution_count": null,
   "id": "6d3d2bca-f673-4094-a4d5-fa3bc81a92fd",
   "metadata": {},
   "outputs": [],
   "source": [
    "def Kernels_T3(labels_tensor, trains, tests, dirname, effect_name):   \n",
    "    \"\"\"\n",
    "    build drugs and labels kernel for each training\n",
    "    \"\"\"\n",
    "    for fold in range(len(trains)): \n",
    "        train = np.load(trains[fold])\n",
    "        test = np.load(tests[fold])\n",
    "        \n",
    "        # train pairs w/o symmetry\n",
    "        train_pairs = [(i, j) for j in train for i in train if i > j]  # 4186 no symmetry\n",
    "        \n",
    "        # use the train pairs to construct kernels with drug combination as side information \n",
    "        effectfeatures = np.asarray([[labels_tensor[:,:,se][train_pairs[i][0], train_pairs[i][1]] for i in range(len(train_pairs))] for se in range(len(labels_tensor[1,1,:]))])  \n",
    "        \n",
    "        # cosine similarity\n",
    "        K_Y_cos = sklearn.metrics.pairwise.cosine_similarity(effectfeatures, effectfeatures) \n",
    "        np.save(dirname+\"/T3_train_K_{}_cos_{}\".format(effect_name,fold), K_Y_cos)\n",
    "        \n",
    "        # jaccard similarity\n",
    "        K_Y_jacc = 1 - sklearn.metrics.pairwise_distances(effectfeatures, metric ='jaccard')\n",
    "        np.save(dirname+\"/T3_train_K_{}_jacc_{}\".format(effect_name, fold), K_Y_jacc)"
   ]
  },
  {
   "cell_type": "markdown",
   "id": "00a716ed-a5cc-42f4-b34a-2a039c459ad4",
   "metadata": {},
   "source": [
    "### TDC"
   ]
  },
  {
   "cell_type": "code",
   "execution_count": null,
   "id": "6b83a8b9-213f-4373-b835-88983bc26639",
   "metadata": {},
   "outputs": [],
   "source": [
    "# TDC triplets > Yabc (3D Label Tensor) \n",
    "labels_triplets = np.loadtxt(\"../Final_DF/TDC_Label.txt\").astype(int)\n",
    "labels_tensor = triplets_to_tensor(labels_triplets, 645, 1317)"
   ]
  },
  {
   "cell_type": "code",
   "execution_count": null,
   "id": "df457800-7dca-4df8-a241-e55f7370f9c3",
   "metadata": {},
   "outputs": [],
   "source": [
    "Split_T1(labels_tensor, \"../Final_Experiments/TDC\", 10)"
   ]
  },
  {
   "cell_type": "code",
   "execution_count": null,
   "id": "03e696bb-5bea-4f90-b541-833d82957a72",
   "metadata": {},
   "outputs": [],
   "source": [
    "Split_T2(labels_tensor, \"../Final_Experiments/TDC\", 10)"
   ]
  },
  {
   "cell_type": "code",
   "execution_count": null,
   "id": "f4e0a816-fbe6-401f-93f9-0972cc69b71b",
   "metadata": {},
   "outputs": [],
   "source": [
    "Split_T3(labels_tensor, \"../Final_Experiments/TDC\", 10)"
   ]
  },
  {
   "cell_type": "code",
   "execution_count": null,
   "id": "8bf8402a-a2c4-4e43-8045-dc9fce87a965",
   "metadata": {},
   "outputs": [],
   "source": [
    "trains = sorted(glob.glob('../Final_Experiments/TDC/T2_train_[0-9]*'))\n",
    "tests = sorted(glob.glob('../Final_Experiments/TDC/T2_test_[0-9]*'))\n",
    "\n",
    "Kernels_T2(labels_tensor, trains, tests, \"../Final_Experiments/TDC\", \"SE\")"
   ]
  },
  {
   "cell_type": "code",
   "execution_count": null,
   "id": "6f5cf69c-7a03-40f8-86ed-bfca2c9e9088",
   "metadata": {},
   "outputs": [],
   "source": [
    "trains = sorted(glob.glob('../Final_Experiments/TDC/T3_train_[0-9]*'))\n",
    "tests = sorted(glob.glob('../Final_Experiments/TDC/T3_test_[0-9]*'))\n",
    "\n",
    "Kernels_T3(labels_tensor, trains, tests, \"../Final_Experiments/TDC\", \"SE\")"
   ]
  },
  {
   "cell_type": "markdown",
   "id": "ddb9abce-06af-4224-86dc-af539449b4b3",
   "metadata": {},
   "source": [
    "### DCDB"
   ]
  },
  {
   "cell_type": "code",
   "execution_count": null,
   "id": "0b2ef1b0-30f8-476d-aba8-f5073ae005f0",
   "metadata": {},
   "outputs": [],
   "source": [
    "# DCDB triplets > Yabc (3D Label Tensor) \n",
    "labels_triplets = np.loadtxt(\"../Final_DF/DCDB_Label.txt\").astype(int)\n",
    "labels_tensor = triplets_to_tensor(labels_triplets, 546, 268)"
   ]
  },
  {
   "cell_type": "code",
   "execution_count": null,
   "id": "7daaa983-23cb-41da-911f-bb5d68fefed7",
   "metadata": {},
   "outputs": [],
   "source": [
    "Split_T1(labels_tensor, \"../Final_Experiments/DCDB\", 10)"
   ]
  },
  {
   "cell_type": "code",
   "execution_count": null,
   "id": "0399f3c7-839d-4d34-a891-ab61505a9db2",
   "metadata": {},
   "outputs": [],
   "source": [
    "Split_T2(labels_tensor, \"../Final_Experiments/DCDB\", 10)"
   ]
  },
  {
   "cell_type": "code",
   "execution_count": null,
   "id": "1bf7b940-b2d4-4ea7-9ab2-06f1ae68c46c",
   "metadata": {},
   "outputs": [],
   "source": [
    "Split_T3(labels_tensor, \"../Final_Experiments/DCDB\", 10)"
   ]
  },
  {
   "cell_type": "code",
   "execution_count": null,
   "id": "8b8a864a-246d-404c-a6b5-c3acf4f5b910",
   "metadata": {},
   "outputs": [],
   "source": [
    "trains = sorted(glob.glob('../Final_Experiments/DCDB/T2_train_[0-9]*'))\n",
    "tests = sorted(glob.glob('../Final_Experiments/DCDB/T2_test_[0-9]*'))\n",
    "\n",
    "Kernels_T2(labels_tensor, trains, tests, \"../Final_Experiments/DCDB\", \"ICD10\")"
   ]
  },
  {
   "cell_type": "code",
   "execution_count": null,
   "id": "3ae75434-5750-4445-8ddf-8717d3fd2a16",
   "metadata": {},
   "outputs": [],
   "source": [
    "trains = sorted(glob.glob('../Final_Experiments/DCDB/T3_train_[0-9]*'))\n",
    "tests = sorted(glob.glob('../Final_Experiments/DCDB/T3_test_[0-9]*'))\n",
    "\n",
    "Kernels_T3(labels_tensor, trains, tests, \"../Final_Experiments/DCDB\", \"ICD10\")"
   ]
  },
  {
   "cell_type": "markdown",
   "id": "bfd0faa5-711a-4db2-bfd1-08120b47aa96",
   "metadata": {},
   "source": [
    "### NCI"
   ]
  },
  {
   "cell_type": "code",
   "execution_count": null,
   "id": "f32aba52-ba72-4457-98b8-170b15b82ad9",
   "metadata": {},
   "outputs": [],
   "source": [
    "# NCI triplets > Yabc (3D Label Tensor) \n",
    "labels_triplets = np.loadtxt(\"../Final_DF/NCI_Label_filtered.txt\").astype(int)[:,0:3]\n",
    "labels_tensor = triplets_to_tensor(labels_triplets, 103, 60)"
   ]
  },
  {
   "cell_type": "code",
   "execution_count": null,
   "id": "a05cbbbd-dcf1-427c-b69b-75efe5142e2d",
   "metadata": {},
   "outputs": [],
   "source": [
    "## further experiments\n",
    "# labels_triplets_10 = np.loadtxt(\"../Final_DF/NCI_Label_filtered_10.txt\").astype(int)[:,0:3]\n",
    "# labels_triplets_5 = np.loadtxt(\"../Final_DF/NCI_Label_filtered_5.txt\").astype(int)[:,0:3]\n",
    "# labels_triplets_2 = np.loadtxt(\"../Final_DF/NCI_Label_filtered_2.txt\").astype(int)[:,0:3]\n",
    "# labels_triplets_1 = np.loadtxt(\"../Final_DF/NCI_Label_filtered_1.txt\").astype(int)[:,0:3]"
   ]
  },
  {
   "cell_type": "code",
   "execution_count": null,
   "id": "75117cdb-d107-469b-92bc-be330c79b288",
   "metadata": {},
   "outputs": [],
   "source": [
    "Split_T1(labels_tensor, \"../Final_Experiments/NCI/\", 10)"
   ]
  },
  {
   "cell_type": "code",
   "execution_count": null,
   "id": "3c3595e4-7489-4437-9ac2-26883032472f",
   "metadata": {},
   "outputs": [],
   "source": [
    "Split_T2(labels_tensor, \"../Final_Experiments/NCI\", 10)"
   ]
  },
  {
   "cell_type": "code",
   "execution_count": null,
   "id": "fc17c958-a576-4afd-8b65-b653b5602260",
   "metadata": {},
   "outputs": [],
   "source": [
    "Split_T3(labels_tensor, \"../Final_Experiments/NCI\", 10)"
   ]
  },
  {
   "cell_type": "code",
   "execution_count": null,
   "id": "da84f6c5-f680-4761-929e-6140339e2df6",
   "metadata": {},
   "outputs": [],
   "source": [
    "trains = sorted(glob.glob('../Final_Experiments/NCI/_train_[0-9]*'))\n",
    "tests = sorted(glob.glob('../Final_Experiments/NCI/test_[0-9]*'))\n",
    "\n",
    "Kernels_T2(labels_tensor, trains, tests, \"../Final_Experiments/NCI\", \"cellLine\")"
   ]
  },
  {
   "cell_type": "code",
   "execution_count": null,
   "id": "f8c9eb59-b4e5-42f7-91a3-eb08e0be442e",
   "metadata": {},
   "outputs": [],
   "source": [
    "trains = sorted(glob.glob('../Final_Experiments/NCI/T3_train_[0-9]*'))\n",
    "tests = sorted(glob.glob('../Final_Experiments/NCI/T3_test_[0-9]*'))\n",
    "\n",
    "Kernels_T3(labels_tensor, trains, tests, \"../Final_Experiments/NCI\", \"cellLine\")"
   ]
  }
 ],
 "metadata": {
  "kernelspec": {
   "display_name": "Python 3 (ipykernel)",
   "language": "python",
   "name": "python3"
  },
  "language_info": {
   "codemirror_mode": {
    "name": "ipython",
    "version": 3
   },
   "file_extension": ".py",
   "mimetype": "text/x-python",
   "name": "python",
   "nbconvert_exporter": "python",
   "pygments_lexer": "ipython3",
   "version": "3.8.11"
  }
 },
 "nbformat": 4,
 "nbformat_minor": 5
}
